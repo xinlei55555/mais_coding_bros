{
 "cells": [
  {
   "cell_type": "code",
   "execution_count": null,
   "metadata": {},
   "outputs": [],
   "source": []
  }
 ],
 "metadata": {
  "kernelspec": {
   "display_name": "Python 3.9.9 ('env': venv)",
   "language": "python",
   "name": "python3"
  },
  "language_info": {
   "name": "python",
   "version": "3.9.9"
  },
  "vscode": {
   "interpreter": {
    "hash": "f6c8cb0d0e74bc9df14118bdcff438f6ae7b86aaded80452eb849caa1428c167"
   }
  }
 },
 "nbformat": 4,
 "nbformat_minor": 5
}
